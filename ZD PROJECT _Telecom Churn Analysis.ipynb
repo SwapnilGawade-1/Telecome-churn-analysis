{
 "cells": [
  {
   "cell_type": "markdown",
   "id": "0a386599-0267-4894-af5d-ff97a0e08d85",
   "metadata": {},
   "source": [
    "# Project - Telecom Churn anlysis "
   ]
  },
  {
   "cell_type": "code",
   "execution_count": 176,
   "id": "0abd51f5-c1e3-4753-bd28-7a700f1bb8f9",
   "metadata": {},
   "outputs": [],
   "source": [
    "import pandas as pd\n",
    "import matplotlib.pyplot as plt\n",
    "import seaborn as sns\n",
    "import warnings \n",
    "warnings.filterwarnings(\"ignore\")\n",
    "from sklearn.linear_model import LinearRegression  # for ml"
   ]
  },
  {
   "cell_type": "code",
   "execution_count": 177,
   "id": "a2371a03-f42a-43f4-9332-8ae557af0061",
   "metadata": {},
   "outputs": [],
   "source": [
    "# Problem Find out Customer Churn Analysis of Monthly Tenure contract "
   ]
  },
  {
   "cell_type": "code",
   "execution_count": 178,
   "id": "44cb247e-84a0-4285-a853-d778f5b124df",
   "metadata": {},
   "outputs": [],
   "source": [
    "df = pd.read_csv('C:/Users/sai/Desktop/execise/1/telecome company churn anlysis/telecome data.csv')"
   ]
  },
  {
   "cell_type": "code",
   "execution_count": 179,
   "id": "ba819d81-f297-4a33-99b8-e54b90788cca",
   "metadata": {},
   "outputs": [
    {
     "data": {
      "text/html": [
       "<div>\n",
       "<style scoped>\n",
       "    .dataframe tbody tr th:only-of-type {\n",
       "        vertical-align: middle;\n",
       "    }\n",
       "\n",
       "    .dataframe tbody tr th {\n",
       "        vertical-align: top;\n",
       "    }\n",
       "\n",
       "    .dataframe thead th {\n",
       "        text-align: right;\n",
       "    }\n",
       "</style>\n",
       "<table border=\"1\" class=\"dataframe\">\n",
       "  <thead>\n",
       "    <tr style=\"text-align: right;\">\n",
       "      <th></th>\n",
       "      <th>customerID</th>\n",
       "      <th>gender</th>\n",
       "      <th>SeniorCitizen</th>\n",
       "      <th>Partner</th>\n",
       "      <th>Dependents</th>\n",
       "      <th>tenure</th>\n",
       "      <th>PhoneService</th>\n",
       "      <th>MultipleLines</th>\n",
       "      <th>InternetService</th>\n",
       "      <th>OnlineSecurity</th>\n",
       "      <th>...</th>\n",
       "      <th>DeviceProtection</th>\n",
       "      <th>TechSupport</th>\n",
       "      <th>StreamingTV</th>\n",
       "      <th>StreamingMovies</th>\n",
       "      <th>Contract</th>\n",
       "      <th>PaperlessBilling</th>\n",
       "      <th>PaymentMethod</th>\n",
       "      <th>MonthlyCharges</th>\n",
       "      <th>TotalCharges</th>\n",
       "      <th>Churn</th>\n",
       "    </tr>\n",
       "  </thead>\n",
       "  <tbody>\n",
       "    <tr>\n",
       "      <th>0</th>\n",
       "      <td>7590-VHVEG</td>\n",
       "      <td>Female</td>\n",
       "      <td>0</td>\n",
       "      <td>Yes</td>\n",
       "      <td>No</td>\n",
       "      <td>1</td>\n",
       "      <td>No</td>\n",
       "      <td>No phone service</td>\n",
       "      <td>DSL</td>\n",
       "      <td>No</td>\n",
       "      <td>...</td>\n",
       "      <td>No</td>\n",
       "      <td>No</td>\n",
       "      <td>No</td>\n",
       "      <td>No</td>\n",
       "      <td>Month-to-month</td>\n",
       "      <td>Yes</td>\n",
       "      <td>Electronic check</td>\n",
       "      <td>29.85</td>\n",
       "      <td>29.85</td>\n",
       "      <td>No</td>\n",
       "    </tr>\n",
       "    <tr>\n",
       "      <th>1</th>\n",
       "      <td>5575-GNVDE</td>\n",
       "      <td>Male</td>\n",
       "      <td>0</td>\n",
       "      <td>No</td>\n",
       "      <td>No</td>\n",
       "      <td>34</td>\n",
       "      <td>Yes</td>\n",
       "      <td>No</td>\n",
       "      <td>DSL</td>\n",
       "      <td>Yes</td>\n",
       "      <td>...</td>\n",
       "      <td>Yes</td>\n",
       "      <td>No</td>\n",
       "      <td>No</td>\n",
       "      <td>No</td>\n",
       "      <td>One year</td>\n",
       "      <td>No</td>\n",
       "      <td>Mailed check</td>\n",
       "      <td>56.95</td>\n",
       "      <td>1889.5</td>\n",
       "      <td>No</td>\n",
       "    </tr>\n",
       "    <tr>\n",
       "      <th>2</th>\n",
       "      <td>3668-QPYBK</td>\n",
       "      <td>Male</td>\n",
       "      <td>0</td>\n",
       "      <td>No</td>\n",
       "      <td>No</td>\n",
       "      <td>2</td>\n",
       "      <td>Yes</td>\n",
       "      <td>No</td>\n",
       "      <td>DSL</td>\n",
       "      <td>Yes</td>\n",
       "      <td>...</td>\n",
       "      <td>No</td>\n",
       "      <td>No</td>\n",
       "      <td>No</td>\n",
       "      <td>No</td>\n",
       "      <td>Month-to-month</td>\n",
       "      <td>Yes</td>\n",
       "      <td>Mailed check</td>\n",
       "      <td>53.85</td>\n",
       "      <td>108.15</td>\n",
       "      <td>Yes</td>\n",
       "    </tr>\n",
       "    <tr>\n",
       "      <th>3</th>\n",
       "      <td>7795-CFOCW</td>\n",
       "      <td>Male</td>\n",
       "      <td>0</td>\n",
       "      <td>No</td>\n",
       "      <td>No</td>\n",
       "      <td>45</td>\n",
       "      <td>No</td>\n",
       "      <td>No phone service</td>\n",
       "      <td>DSL</td>\n",
       "      <td>Yes</td>\n",
       "      <td>...</td>\n",
       "      <td>Yes</td>\n",
       "      <td>Yes</td>\n",
       "      <td>No</td>\n",
       "      <td>No</td>\n",
       "      <td>One year</td>\n",
       "      <td>No</td>\n",
       "      <td>Bank transfer (automatic)</td>\n",
       "      <td>42.30</td>\n",
       "      <td>1840.75</td>\n",
       "      <td>No</td>\n",
       "    </tr>\n",
       "    <tr>\n",
       "      <th>4</th>\n",
       "      <td>9237-HQITU</td>\n",
       "      <td>Female</td>\n",
       "      <td>0</td>\n",
       "      <td>No</td>\n",
       "      <td>No</td>\n",
       "      <td>2</td>\n",
       "      <td>Yes</td>\n",
       "      <td>No</td>\n",
       "      <td>Fiber optic</td>\n",
       "      <td>No</td>\n",
       "      <td>...</td>\n",
       "      <td>No</td>\n",
       "      <td>No</td>\n",
       "      <td>No</td>\n",
       "      <td>No</td>\n",
       "      <td>Month-to-month</td>\n",
       "      <td>Yes</td>\n",
       "      <td>Electronic check</td>\n",
       "      <td>70.70</td>\n",
       "      <td>151.65</td>\n",
       "      <td>Yes</td>\n",
       "    </tr>\n",
       "    <tr>\n",
       "      <th>...</th>\n",
       "      <td>...</td>\n",
       "      <td>...</td>\n",
       "      <td>...</td>\n",
       "      <td>...</td>\n",
       "      <td>...</td>\n",
       "      <td>...</td>\n",
       "      <td>...</td>\n",
       "      <td>...</td>\n",
       "      <td>...</td>\n",
       "      <td>...</td>\n",
       "      <td>...</td>\n",
       "      <td>...</td>\n",
       "      <td>...</td>\n",
       "      <td>...</td>\n",
       "      <td>...</td>\n",
       "      <td>...</td>\n",
       "      <td>...</td>\n",
       "      <td>...</td>\n",
       "      <td>...</td>\n",
       "      <td>...</td>\n",
       "      <td>...</td>\n",
       "    </tr>\n",
       "    <tr>\n",
       "      <th>7038</th>\n",
       "      <td>6840-RESVB</td>\n",
       "      <td>Male</td>\n",
       "      <td>0</td>\n",
       "      <td>Yes</td>\n",
       "      <td>Yes</td>\n",
       "      <td>24</td>\n",
       "      <td>Yes</td>\n",
       "      <td>Yes</td>\n",
       "      <td>DSL</td>\n",
       "      <td>Yes</td>\n",
       "      <td>...</td>\n",
       "      <td>Yes</td>\n",
       "      <td>Yes</td>\n",
       "      <td>Yes</td>\n",
       "      <td>Yes</td>\n",
       "      <td>One year</td>\n",
       "      <td>Yes</td>\n",
       "      <td>Mailed check</td>\n",
       "      <td>84.80</td>\n",
       "      <td>1990.5</td>\n",
       "      <td>No</td>\n",
       "    </tr>\n",
       "    <tr>\n",
       "      <th>7039</th>\n",
       "      <td>2234-XADUH</td>\n",
       "      <td>Female</td>\n",
       "      <td>0</td>\n",
       "      <td>Yes</td>\n",
       "      <td>Yes</td>\n",
       "      <td>72</td>\n",
       "      <td>Yes</td>\n",
       "      <td>Yes</td>\n",
       "      <td>Fiber optic</td>\n",
       "      <td>No</td>\n",
       "      <td>...</td>\n",
       "      <td>Yes</td>\n",
       "      <td>No</td>\n",
       "      <td>Yes</td>\n",
       "      <td>Yes</td>\n",
       "      <td>One year</td>\n",
       "      <td>Yes</td>\n",
       "      <td>Credit card (automatic)</td>\n",
       "      <td>103.20</td>\n",
       "      <td>7362.9</td>\n",
       "      <td>No</td>\n",
       "    </tr>\n",
       "    <tr>\n",
       "      <th>7040</th>\n",
       "      <td>4801-JZAZL</td>\n",
       "      <td>Female</td>\n",
       "      <td>0</td>\n",
       "      <td>Yes</td>\n",
       "      <td>Yes</td>\n",
       "      <td>11</td>\n",
       "      <td>No</td>\n",
       "      <td>No phone service</td>\n",
       "      <td>DSL</td>\n",
       "      <td>Yes</td>\n",
       "      <td>...</td>\n",
       "      <td>No</td>\n",
       "      <td>No</td>\n",
       "      <td>No</td>\n",
       "      <td>No</td>\n",
       "      <td>Month-to-month</td>\n",
       "      <td>Yes</td>\n",
       "      <td>Electronic check</td>\n",
       "      <td>29.60</td>\n",
       "      <td>346.45</td>\n",
       "      <td>No</td>\n",
       "    </tr>\n",
       "    <tr>\n",
       "      <th>7041</th>\n",
       "      <td>8361-LTMKD</td>\n",
       "      <td>Male</td>\n",
       "      <td>1</td>\n",
       "      <td>Yes</td>\n",
       "      <td>No</td>\n",
       "      <td>4</td>\n",
       "      <td>Yes</td>\n",
       "      <td>Yes</td>\n",
       "      <td>Fiber optic</td>\n",
       "      <td>No</td>\n",
       "      <td>...</td>\n",
       "      <td>No</td>\n",
       "      <td>No</td>\n",
       "      <td>No</td>\n",
       "      <td>No</td>\n",
       "      <td>Month-to-month</td>\n",
       "      <td>Yes</td>\n",
       "      <td>Mailed check</td>\n",
       "      <td>74.40</td>\n",
       "      <td>306.6</td>\n",
       "      <td>Yes</td>\n",
       "    </tr>\n",
       "    <tr>\n",
       "      <th>7042</th>\n",
       "      <td>3186-AJIEK</td>\n",
       "      <td>Male</td>\n",
       "      <td>0</td>\n",
       "      <td>No</td>\n",
       "      <td>No</td>\n",
       "      <td>66</td>\n",
       "      <td>Yes</td>\n",
       "      <td>No</td>\n",
       "      <td>Fiber optic</td>\n",
       "      <td>Yes</td>\n",
       "      <td>...</td>\n",
       "      <td>Yes</td>\n",
       "      <td>Yes</td>\n",
       "      <td>Yes</td>\n",
       "      <td>Yes</td>\n",
       "      <td>Two year</td>\n",
       "      <td>Yes</td>\n",
       "      <td>Bank transfer (automatic)</td>\n",
       "      <td>105.65</td>\n",
       "      <td>6844.5</td>\n",
       "      <td>No</td>\n",
       "    </tr>\n",
       "  </tbody>\n",
       "</table>\n",
       "<p>7043 rows × 21 columns</p>\n",
       "</div>"
      ],
      "text/plain": [
       "      customerID  gender  SeniorCitizen Partner Dependents  tenure  \\\n",
       "0     7590-VHVEG  Female              0     Yes         No       1   \n",
       "1     5575-GNVDE    Male              0      No         No      34   \n",
       "2     3668-QPYBK    Male              0      No         No       2   \n",
       "3     7795-CFOCW    Male              0      No         No      45   \n",
       "4     9237-HQITU  Female              0      No         No       2   \n",
       "...          ...     ...            ...     ...        ...     ...   \n",
       "7038  6840-RESVB    Male              0     Yes        Yes      24   \n",
       "7039  2234-XADUH  Female              0     Yes        Yes      72   \n",
       "7040  4801-JZAZL  Female              0     Yes        Yes      11   \n",
       "7041  8361-LTMKD    Male              1     Yes         No       4   \n",
       "7042  3186-AJIEK    Male              0      No         No      66   \n",
       "\n",
       "     PhoneService     MultipleLines InternetService OnlineSecurity  ...  \\\n",
       "0              No  No phone service             DSL             No  ...   \n",
       "1             Yes                No             DSL            Yes  ...   \n",
       "2             Yes                No             DSL            Yes  ...   \n",
       "3              No  No phone service             DSL            Yes  ...   \n",
       "4             Yes                No     Fiber optic             No  ...   \n",
       "...           ...               ...             ...            ...  ...   \n",
       "7038          Yes               Yes             DSL            Yes  ...   \n",
       "7039          Yes               Yes     Fiber optic             No  ...   \n",
       "7040           No  No phone service             DSL            Yes  ...   \n",
       "7041          Yes               Yes     Fiber optic             No  ...   \n",
       "7042          Yes                No     Fiber optic            Yes  ...   \n",
       "\n",
       "     DeviceProtection TechSupport StreamingTV StreamingMovies        Contract  \\\n",
       "0                  No          No          No              No  Month-to-month   \n",
       "1                 Yes          No          No              No        One year   \n",
       "2                  No          No          No              No  Month-to-month   \n",
       "3                 Yes         Yes          No              No        One year   \n",
       "4                  No          No          No              No  Month-to-month   \n",
       "...               ...         ...         ...             ...             ...   \n",
       "7038              Yes         Yes         Yes             Yes        One year   \n",
       "7039              Yes          No         Yes             Yes        One year   \n",
       "7040               No          No          No              No  Month-to-month   \n",
       "7041               No          No          No              No  Month-to-month   \n",
       "7042              Yes         Yes         Yes             Yes        Two year   \n",
       "\n",
       "     PaperlessBilling              PaymentMethod MonthlyCharges  TotalCharges  \\\n",
       "0                 Yes           Electronic check          29.85         29.85   \n",
       "1                  No               Mailed check          56.95        1889.5   \n",
       "2                 Yes               Mailed check          53.85        108.15   \n",
       "3                  No  Bank transfer (automatic)          42.30       1840.75   \n",
       "4                 Yes           Electronic check          70.70        151.65   \n",
       "...               ...                        ...            ...           ...   \n",
       "7038              Yes               Mailed check          84.80        1990.5   \n",
       "7039              Yes    Credit card (automatic)         103.20        7362.9   \n",
       "7040              Yes           Electronic check          29.60        346.45   \n",
       "7041              Yes               Mailed check          74.40         306.6   \n",
       "7042              Yes  Bank transfer (automatic)         105.65        6844.5   \n",
       "\n",
       "     Churn  \n",
       "0       No  \n",
       "1       No  \n",
       "2      Yes  \n",
       "3       No  \n",
       "4      Yes  \n",
       "...    ...  \n",
       "7038    No  \n",
       "7039    No  \n",
       "7040    No  \n",
       "7041   Yes  \n",
       "7042    No  \n",
       "\n",
       "[7043 rows x 21 columns]"
      ]
     },
     "execution_count": 179,
     "metadata": {},
     "output_type": "execute_result"
    }
   ],
   "source": [
    "df"
   ]
  },
  {
   "cell_type": "markdown",
   "id": "52f78b37-bdbd-4cb7-b4cf-6c4c90ee3bef",
   "metadata": {},
   "source": [
    "# EDA Exploratory Data Analysis"
   ]
  },
  {
   "cell_type": "code",
   "execution_count": 180,
   "id": "f574dd1b-1436-41f8-8401-246c0c5cb22a",
   "metadata": {},
   "outputs": [
    {
     "data": {
      "text/plain": [
       "(7043, 21)"
      ]
     },
     "execution_count": 180,
     "metadata": {},
     "output_type": "execute_result"
    }
   ],
   "source": [
    "df.shape"
   ]
  },
  {
   "cell_type": "code",
   "execution_count": 181,
   "id": "2412b5f0-872a-48cf-97ea-48607feb2ec0",
   "metadata": {},
   "outputs": [
    {
     "data": {
      "text/plain": [
       "np.int64(0)"
      ]
     },
     "execution_count": 181,
     "metadata": {},
     "output_type": "execute_result"
    }
   ],
   "source": [
    "df.duplicated().sum()"
   ]
  },
  {
   "cell_type": "code",
   "execution_count": 182,
   "id": "937d2bb3-3160-4486-9b37-3cefcaaf63e2",
   "metadata": {},
   "outputs": [
    {
     "data": {
      "text/plain": [
       "customerID          0\n",
       "gender              0\n",
       "SeniorCitizen       0\n",
       "Partner             0\n",
       "Dependents          0\n",
       "tenure              0\n",
       "PhoneService        0\n",
       "MultipleLines       0\n",
       "InternetService     0\n",
       "OnlineSecurity      0\n",
       "OnlineBackup        0\n",
       "DeviceProtection    0\n",
       "TechSupport         0\n",
       "StreamingTV         0\n",
       "StreamingMovies     0\n",
       "Contract            0\n",
       "PaperlessBilling    0\n",
       "PaymentMethod       0\n",
       "MonthlyCharges      0\n",
       "TotalCharges        0\n",
       "Churn               0\n",
       "dtype: int64"
      ]
     },
     "execution_count": 182,
     "metadata": {},
     "output_type": "execute_result"
    }
   ],
   "source": [
    "df.isnull().sum()"
   ]
  },
  {
   "cell_type": "code",
   "execution_count": 183,
   "id": "6f0bbf4c-f8f0-462b-bf08-ceb065f34f5e",
   "metadata": {},
   "outputs": [
    {
     "data": {
      "text/plain": [
       "customerID           object\n",
       "gender               object\n",
       "SeniorCitizen         int64\n",
       "Partner              object\n",
       "Dependents           object\n",
       "tenure                int64\n",
       "PhoneService         object\n",
       "MultipleLines        object\n",
       "InternetService      object\n",
       "OnlineSecurity       object\n",
       "OnlineBackup         object\n",
       "DeviceProtection     object\n",
       "TechSupport          object\n",
       "StreamingTV          object\n",
       "StreamingMovies      object\n",
       "Contract             object\n",
       "PaperlessBilling     object\n",
       "PaymentMethod        object\n",
       "MonthlyCharges      float64\n",
       "TotalCharges         object\n",
       "Churn                object\n",
       "dtype: object"
      ]
     },
     "execution_count": 183,
     "metadata": {},
     "output_type": "execute_result"
    }
   ],
   "source": [
    "df.dtypes"
   ]
  },
  {
   "cell_type": "code",
   "execution_count": 184,
   "id": "03d79076-45a2-45cc-afa2-2b2841afd571",
   "metadata": {},
   "outputs": [],
   "source": [
    "df.dropna(inplace = True)"
   ]
  },
  {
   "cell_type": "code",
   "execution_count": 185,
   "id": "9fab3d9f-9c53-4beb-b4c1-14ef4f62d242",
   "metadata": {},
   "outputs": [],
   "source": [
    "df['TotalCharges'] = pd.to_numeric(df['TotalCharges'] ,errors = 'coerce')\n"
   ]
  },
  {
   "cell_type": "code",
   "execution_count": 186,
   "id": "1dd65337-ac44-4b12-8a61-543245ae5d11",
   "metadata": {},
   "outputs": [
    {
     "data": {
      "text/plain": [
       "customerID           object\n",
       "gender               object\n",
       "SeniorCitizen         int64\n",
       "Partner              object\n",
       "Dependents           object\n",
       "tenure                int64\n",
       "PhoneService         object\n",
       "MultipleLines        object\n",
       "InternetService      object\n",
       "OnlineSecurity       object\n",
       "OnlineBackup         object\n",
       "DeviceProtection     object\n",
       "TechSupport          object\n",
       "StreamingTV          object\n",
       "StreamingMovies      object\n",
       "Contract             object\n",
       "PaperlessBilling     object\n",
       "PaymentMethod        object\n",
       "MonthlyCharges      float64\n",
       "TotalCharges        float64\n",
       "Churn                object\n",
       "dtype: object"
      ]
     },
     "execution_count": 186,
     "metadata": {},
     "output_type": "execute_result"
    }
   ],
   "source": [
    "df.dtypes"
   ]
  },
  {
   "cell_type": "code",
   "execution_count": 187,
   "id": "9764de88-0d5c-4bad-85ef-494bc5dfc733",
   "metadata": {},
   "outputs": [
    {
     "data": {
      "text/plain": [
       "customerID          7043\n",
       "gender                 2\n",
       "SeniorCitizen          2\n",
       "Partner                2\n",
       "Dependents             2\n",
       "tenure                73\n",
       "PhoneService           2\n",
       "MultipleLines          3\n",
       "InternetService        3\n",
       "OnlineSecurity         3\n",
       "OnlineBackup           3\n",
       "DeviceProtection       3\n",
       "TechSupport            3\n",
       "StreamingTV            3\n",
       "StreamingMovies        3\n",
       "Contract               3\n",
       "PaperlessBilling       2\n",
       "PaymentMethod          4\n",
       "MonthlyCharges      1585\n",
       "TotalCharges        6530\n",
       "Churn                  2\n",
       "dtype: int64"
      ]
     },
     "execution_count": 187,
     "metadata": {},
     "output_type": "execute_result"
    }
   ],
   "source": [
    "df.nunique()"
   ]
  },
  {
   "cell_type": "code",
   "execution_count": 188,
   "id": "cd5a67a0-12f9-4fd3-b701-6178b637cda7",
   "metadata": {},
   "outputs": [
    {
     "name": "stdout",
     "output_type": "stream",
     "text": [
      "customerID ['7590-VHVEG' '5575-GNVDE' '3668-QPYBK' ... '4801-JZAZL' '8361-LTMKD'\n",
      " '3186-AJIEK'] \n",
      "\n",
      "gender ['Female' 'Male'] \n",
      "\n",
      "SeniorCitizen [0 1] \n",
      "\n",
      "Partner ['Yes' 'No'] \n",
      "\n",
      "Dependents ['No' 'Yes'] \n",
      "\n",
      "tenure [ 1 34  2 45  8 22 10 28 62 13 16 58 49 25 69 52 71 21 12 30 47 72 17 27\n",
      "  5 46 11 70 63 43 15 60 18 66  9  3 31 50 64 56  7 42 35 48 29 65 38 68\n",
      " 32 55 37 36 41  6  4 33 67 23 57 61 14 20 53 40 59 24 44 19 54 51 26  0\n",
      " 39] \n",
      "\n",
      "PhoneService ['No' 'Yes'] \n",
      "\n",
      "MultipleLines ['No phone service' 'No' 'Yes'] \n",
      "\n",
      "InternetService ['DSL' 'Fiber optic' 'No'] \n",
      "\n",
      "OnlineSecurity ['No' 'Yes' 'No internet service'] \n",
      "\n",
      "OnlineBackup ['Yes' 'No' 'No internet service'] \n",
      "\n",
      "DeviceProtection ['No' 'Yes' 'No internet service'] \n",
      "\n",
      "TechSupport ['No' 'Yes' 'No internet service'] \n",
      "\n",
      "StreamingTV ['No' 'Yes' 'No internet service'] \n",
      "\n",
      "StreamingMovies ['No' 'Yes' 'No internet service'] \n",
      "\n",
      "Contract ['Month-to-month' 'One year' 'Two year'] \n",
      "\n",
      "PaperlessBilling ['Yes' 'No'] \n",
      "\n",
      "PaymentMethod ['Electronic check' 'Mailed check' 'Bank transfer (automatic)'\n",
      " 'Credit card (automatic)'] \n",
      "\n",
      "MonthlyCharges [29.85 56.95 53.85 ... 63.1  44.2  78.7 ] \n",
      "\n",
      "TotalCharges [  29.85 1889.5   108.15 ...  346.45  306.6  6844.5 ] \n",
      "\n",
      "Churn ['No' 'Yes'] \n",
      "\n"
     ]
    }
   ],
   "source": [
    "cols =df.columns\n",
    "for i in cols:\n",
    "    print(i,df[i].unique(),'\\n')"
   ]
  },
  {
   "cell_type": "code",
   "execution_count": 189,
   "id": "f2ab75e5-1550-4c1d-8787-4322eee31736",
   "metadata": {},
   "outputs": [
    {
     "data": {
      "text/html": [
       "<div>\n",
       "<style scoped>\n",
       "    .dataframe tbody tr th:only-of-type {\n",
       "        vertical-align: middle;\n",
       "    }\n",
       "\n",
       "    .dataframe tbody tr th {\n",
       "        vertical-align: top;\n",
       "    }\n",
       "\n",
       "    .dataframe thead th {\n",
       "        text-align: right;\n",
       "    }\n",
       "</style>\n",
       "<table border=\"1\" class=\"dataframe\">\n",
       "  <thead>\n",
       "    <tr style=\"text-align: right;\">\n",
       "      <th></th>\n",
       "      <th>SeniorCitizen</th>\n",
       "      <th>tenure</th>\n",
       "      <th>MonthlyCharges</th>\n",
       "      <th>TotalCharges</th>\n",
       "    </tr>\n",
       "  </thead>\n",
       "  <tbody>\n",
       "    <tr>\n",
       "      <th>count</th>\n",
       "      <td>7043.000000</td>\n",
       "      <td>7043.000000</td>\n",
       "      <td>7043.000000</td>\n",
       "      <td>7032.000000</td>\n",
       "    </tr>\n",
       "    <tr>\n",
       "      <th>mean</th>\n",
       "      <td>0.162147</td>\n",
       "      <td>32.371149</td>\n",
       "      <td>64.761692</td>\n",
       "      <td>2283.300441</td>\n",
       "    </tr>\n",
       "    <tr>\n",
       "      <th>std</th>\n",
       "      <td>0.368612</td>\n",
       "      <td>24.559481</td>\n",
       "      <td>30.090047</td>\n",
       "      <td>2266.771362</td>\n",
       "    </tr>\n",
       "    <tr>\n",
       "      <th>min</th>\n",
       "      <td>0.000000</td>\n",
       "      <td>0.000000</td>\n",
       "      <td>18.250000</td>\n",
       "      <td>18.800000</td>\n",
       "    </tr>\n",
       "    <tr>\n",
       "      <th>25%</th>\n",
       "      <td>0.000000</td>\n",
       "      <td>9.000000</td>\n",
       "      <td>35.500000</td>\n",
       "      <td>401.450000</td>\n",
       "    </tr>\n",
       "    <tr>\n",
       "      <th>50%</th>\n",
       "      <td>0.000000</td>\n",
       "      <td>29.000000</td>\n",
       "      <td>70.350000</td>\n",
       "      <td>1397.475000</td>\n",
       "    </tr>\n",
       "    <tr>\n",
       "      <th>75%</th>\n",
       "      <td>0.000000</td>\n",
       "      <td>55.000000</td>\n",
       "      <td>89.850000</td>\n",
       "      <td>3794.737500</td>\n",
       "    </tr>\n",
       "    <tr>\n",
       "      <th>max</th>\n",
       "      <td>1.000000</td>\n",
       "      <td>72.000000</td>\n",
       "      <td>118.750000</td>\n",
       "      <td>8684.800000</td>\n",
       "    </tr>\n",
       "  </tbody>\n",
       "</table>\n",
       "</div>"
      ],
      "text/plain": [
       "       SeniorCitizen       tenure  MonthlyCharges  TotalCharges\n",
       "count    7043.000000  7043.000000     7043.000000   7032.000000\n",
       "mean        0.162147    32.371149       64.761692   2283.300441\n",
       "std         0.368612    24.559481       30.090047   2266.771362\n",
       "min         0.000000     0.000000       18.250000     18.800000\n",
       "25%         0.000000     9.000000       35.500000    401.450000\n",
       "50%         0.000000    29.000000       70.350000   1397.475000\n",
       "75%         0.000000    55.000000       89.850000   3794.737500\n",
       "max         1.000000    72.000000      118.750000   8684.800000"
      ]
     },
     "execution_count": 189,
     "metadata": {},
     "output_type": "execute_result"
    }
   ],
   "source": [
    "df.describe()"
   ]
  },
  {
   "cell_type": "code",
   "execution_count": 190,
   "id": "1dfca947-3a2b-42e4-a839-e5a128377c9a",
   "metadata": {},
   "outputs": [],
   "source": [
    "#EDA by Visualization "
   ]
  },
  {
   "cell_type": "code",
   "execution_count": 191,
   "id": "067a27d3-f740-454c-a1e6-246eefab9753",
   "metadata": {},
   "outputs": [
    {
     "data": {
      "image/png": "[encoded data removed]",
      "text/plain": [
       "<Figure size 640x480 with 1 Axes>"
      ]
     },
     "metadata": {},
     "output_type": "display_data"
    }
   ],
   "source": [
    "plt.pie(df['gender'].value_counts(),\n",
    "labels =df['gender'].value_counts().index,autopct='%1.1f%%')\n",
    "plt.title('Gender Distrubution')\n",
    "plt.show()"
   ]
  },
  {
   "cell_type": "markdown",
   "id": "449ba9f4-8bc4-4680-9413-ad2abe2a3698",
   "metadata": {},
   "source": [
    "fig, ax = plt.subplots(1, 2, figsize=(8, 6))\n",
    "sns.histplot(x = 'tenure', data = df, ax= ax[0]).set_title('Cutomer Tenure in Months')\n",
    "sns.countplot(x = 'Contract', data = df, ax= ax[1]).set_title('Contract Type')"
   ]
  },
  {
   "cell_type": "code",
   "execution_count": 199,
   "id": "5561f2cd-644e-4943-8b4a-d24914da8010",
   "metadata": {},
   "outputs": [],
   "source": [
    "# above fig represents the customers tenure with company max tenure is 70 months its indiactes the loaylty of customer with company\n",
    "# short period tenure is between 1 to 10 months \n",
    "# second fig shows that customers contract with company is more in month to month  that mean customer prefer month to month bill payments."
   ]
  },
  {
   "cell_type": "code",
   "execution_count": 200,
   "id": "50e56ad5-d1bb-4493-92e7-5806ed35cad5",
   "metadata": {},
   "outputs": [],
   "source": [
    "# Biling and Charges"
   ]
  },
  {
   "cell_type": "code",
   "execution_count": 246,
   "id": "9e33c39a-5f8b-46c5-b105-f3928efea8d5",
   "metadata": {},
   "outputs": [
    {
     "data": {
      "image/png": "[encoded data removed]",
      "text/plain": [
       "<Figure size 1200x600 with 2 Axes>"
      ]
     },
     "metadata": {},
     "output_type": "display_data"
    }
   ],
   "source": [
    "import matplotlib.pyplot as plt\n",
    "import seaborn as sns\n",
    "\n",
    "fig, ax = plt.subplots(1, 2, figsize=(12, 6))\n",
    "fig.tight_layout(pad=10.0)\n",
    "\n",
    "# Payment Method plot\n",
    "sns.countplot(x='PaymentMethod', data=df, ax=ax[0])\n",
    "ax[0].set_title('Payment Method')\n",
    "ax[0].xaxis.set_tick_params(rotation=90)\n",
    "\n",
    "\n",
    "# Monthly Charges plot\n",
    "sns.histplot(x='MonthlyCharges', data=df, ax=ax[1])\n",
    "ax[1].set_title('Monthly Charges')\n",
    "ax[1].xaxis.set_tick_params(rotation=90)\n",
    "\n",
    "plt.show()\n",
    "\n"
   ]
  },
  {
   "cell_type": "code",
   "execution_count": 202,
   "id": "9a155fa5-e8df-45d6-9d7c-20e5e3a3695b",
   "metadata": {},
   "outputs": [],
   "source": [
    "# above graph re[resents modes of pay bill by costomer most of the customer prefers paperless bill payment while  more than 2000 \n",
    "# CUSTOMER PREFERS electronic bill payment no of customer use paper biillby emain and otehr are also huge in numbers\n",
    "# maximum cust. spend about 20 dollers per month and majority of cust. spends less than 200 doller per month\n",
    "# company has huge no of cust. with low  charges this means company has to focus on theese customer for churn ."
   ]
  },
  {
   "cell_type": "code",
   "execution_count": 203,
   "id": "fcef28a0-df8a-4fa0-9cd6-06ce7073188e",
   "metadata": {},
   "outputs": [
    {
     "data": {
      "text/plain": [
       "Text(0.5, 1.0, 'Churn Count')"
      ]
     },
     "execution_count": 203,
     "metadata": {},
     "output_type": "execute_result"
    },
    {
     "data": {
      "image/png": "[encoded data removed]",
      "text/plain": [
       "<Figure size 640x480 with 1 Axes>"
      ]
     },
     "metadata": {},
     "output_type": "display_data"
    }
   ],
   "source": [
    "plt.pie(x = df['Churn'].value_counts(), labels = df['Churn'].unique(), autopct = '%1.2f%%')\n",
    "plt.title('Churn Count')"
   ]
  },
  {
   "cell_type": "code",
   "execution_count": 204,
   "id": "11f5a339-fa3b-4027-8135-02de99751940",
   "metadata": {},
   "outputs": [],
   "source": [
    "# above fig shows only 26 % customer churned ( left company service) that means company is good to keep majority of its customer"
   ]
  },
  {
   "cell_type": "code",
   "execution_count": 205,
   "id": "4bd724cc-b51d-49c4-8982-7e2087fbd4dc",
   "metadata": {},
   "outputs": [
    {
     "data": {
      "text/plain": [
       "Text(0.5, 1.0, 'Contract Type and Churn')"
      ]
     },
     "execution_count": 205,
     "metadata": {},
     "output_type": "execute_result"
    },
    {
     "data": {
      "image/png": "[encoded data removed]",
      "text/plain": [
       "<Figure size 800x600 with 2 Axes>"
      ]
     },
     "metadata": {},
     "output_type": "display_data"
    }
   ],
   "source": [
    "fig, ax = plt.subplots(1, 2, figsize=(8, 6))\n",
    "sns.histplot(x = 'tenure', data = df, ax= ax[0], hue = 'Churn', multiple = 'stack').set_title('Cutomer Tenure (in Months) and Churn')\n",
    "sns.countplot(x = 'Contract', data = df, ax= ax[1], hue = 'Churn').set_title('Contract Type and Churn')"
   ]
  },
  {
   "cell_type": "code",
   "execution_count": 206,
   "id": "d52fefc9-001b-412c-bb24-aa329b693a09",
   "metadata": {},
   "outputs": [],
   "source": [
    "# Looks like the customer tenure and contract has a inverse relation.\n",
    "# The customers with shorter tenure or tenure less than 5 months have higher churn count.\n",
    "# The churn count decreases with increase in tenure. \n",
    "#Moreover, the customers with month-to-month contract have higher churn count as compared to those \n",
    "#with one or two year contract which also proves that customer who have longer contract with the company have lower churn count."
   ]
  },
  {
   "cell_type": "code",
   "execution_count": 207,
   "id": "61c2dd59-014e-4fe9-b97c-7a3c648c788c",
   "metadata": {},
   "outputs": [],
   "source": [
    "#Columns for outlier removal\n",
    "cols = ['tenure', 'MonthlyCharges', 'TotalCharges']\n",
    "\n",
    "#Using IQR method to remove outliers\n",
    "Q1 = df[cols].quantile(0.25)\n",
    "Q3 = df[cols].quantile(0.75)\n",
    "IQR = Q3 - Q1\n",
    "\n",
    "#Removing the outliers\n",
    "df = df[~((df[cols] < (Q1 - 1.5 * IQR)) |(df[cols] > (Q3 + 1.5 * IQR))).any(axis=1)]"
   ]
  },
  {
   "cell_type": "code",
   "execution_count": 208,
   "id": "36e57f10-a444-4274-9189-92394674342c",
   "metadata": {},
   "outputs": [
    {
     "name": "stdout",
     "output_type": "stream",
     "text": [
      "customerID [5375 3962 2564 ... 3367 5934 2226] \n",
      "\n",
      "gender [0 1] \n",
      "\n",
      "Partner [1 0] \n",
      "\n",
      "Dependents [0 1] \n",
      "\n",
      "PhoneService [0 1] \n",
      "\n",
      "MultipleLines [1 0 2] \n",
      "\n",
      "InternetService [0 1 2] \n",
      "\n",
      "OnlineSecurity [0 2 1] \n",
      "\n",
      "OnlineBackup [2 0 1] \n",
      "\n",
      "DeviceProtection [0 2 1] \n",
      "\n",
      "TechSupport [0 2 1] \n",
      "\n",
      "StreamingTV [0 2 1] \n",
      "\n",
      "StreamingMovies [0 2 1] \n",
      "\n",
      "Contract [0 1 2] \n",
      "\n",
      "PaperlessBilling [1 0] \n",
      "\n",
      "PaymentMethod [2 3 0 1] \n",
      "\n",
      "Churn [0 1] \n",
      "\n"
     ]
    }
   ],
   "source": [
    "from sklearn.preprocessing import LabelEncoder\n",
    "\n",
    "#columns for label encoding\n",
    "\n",
    "cols = df.columns[df.dtypes=='object']\n",
    "\n",
    "#Label encoder object\n",
    "\n",
    "le =LabelEncoder()\n",
    "\n",
    "#Label encoding the columns\n",
    "\n",
    "for i in cols:\n",
    "    le.fit(df[i])\n",
    "    df[i] = le.transform(df[i])\n",
    "    print(i,df[i].unique(),'\\n')"
   ]
  },
  {
   "cell_type": "markdown",
   "id": "741ee42b-74b8-4672-8559-3f1530e1b429",
   "metadata": {},
   "source": [
    "# Train model and ML"
   ]
  },
  {
   "cell_type": "code",
   "execution_count": 209,
   "id": "5dc99ed6-67ed-4271-899a-73a83c934244",
   "metadata": {},
   "outputs": [],
   "source": [
    "# Train Test Split"
   ]
  },
  {
   "cell_type": "code",
   "execution_count": 210,
   "id": "9c11ee40-68c6-4ec4-8209-4229240e253a",
   "metadata": {},
   "outputs": [],
   "source": [
    "from sklearn.model_selection import train_test_split\n",
    "\n",
    "X_train,X_test,y_train,y_test = train_test_split(df.drop(columns='Churn'),df\n",
    "                                                 ['Churn'],test_size=0.2,random_state=42)"
   ]
  },
  {
   "cell_type": "code",
   "execution_count": 211,
   "id": "ed5085a6-4e6d-402b-94dd-351becf4e3af",
   "metadata": {},
   "outputs": [],
   "source": [
    "# Model Building¶\n",
    "#i will  use the following models to predict the customer churn :\n",
    "#1. Decision Tree Classifier\n",
    "#2. Random Forest Classifier\n",
    "#3 .K nearest Nearest Neighbors Classifier"
   ]
  },
  {
   "cell_type": "markdown",
   "id": "d90d2b04-d7c4-4a58-ae3e-04ab6c3a1350",
   "metadata": {},
   "source": [
    "# Classifier Testing "
   ]
  },
  {
   "cell_type": "code",
   "execution_count": 212,
   "id": "b6a06f73-81d7-40c4-9aad-cbb174480fb2",
   "metadata": {},
   "outputs": [],
   "source": [
    "#Decision Tree Classifier"
   ]
  },
  {
   "cell_type": "code",
   "execution_count": 213,
   "id": "9c039179-c7b7-43af-afaf-e02f47fadbb9",
   "metadata": {},
   "outputs": [],
   "source": [
    "from sklearn.tree import DecisionTreeClassifier\n",
    "\n",
    "## decision Tree Classifier Object\n",
    "\n",
    "dtree = DecisionTreeClassifier()"
   ]
  },
  {
   "cell_type": "code",
   "execution_count": 214,
   "id": "d8e49f11-a921-4f69-bf8a-b67021f81ab2",
   "metadata": {},
   "outputs": [],
   "source": [
    "from sklearn.preprocessing import StandardScaler\n",
    "\n",
    "#standardizing the data\n",
    "\n",
    "sc = StandardScaler()\n",
    "\n",
    "df[['tenure','MonthlyCharges','TotalCharges']]=sc.fit_transform(df[['tenure','MonthlyCharges','TotalCharges']])"
   ]
  },
  {
   "cell_type": "code",
   "execution_count": 215,
   "id": "9bdd00e6-f8bd-4771-8e18-2e0507c2100e",
   "metadata": {},
   "outputs": [],
   "source": [
    "# K nearest Neighbours clasiifier"
   ]
  },
  {
   "cell_type": "code",
   "execution_count": 216,
   "id": "d9614c32-d382-4d9b-8847-30de48795ca8",
   "metadata": {},
   "outputs": [],
   "source": [
    "# hyper paramter Tunning using GridSearchCV"
   ]
  },
  {
   "cell_type": "code",
   "execution_count": 217,
   "id": "4c9ad571-a536-4414-80b6-b84cafefe81d",
   "metadata": {},
   "outputs": [
    {
     "name": "stdout",
     "output_type": "stream",
     "text": [
      "Fitting 3 folds for each of 500 candidates, totalling 1500 fits\n",
      "{'criterion': 'entropy', 'max_depth': 6, 'min_samples_leaf': 4, 'min_samples_split': 2, 'random_state': 0}\n"
     ]
    }
   ],
   "source": [
    "from sklearn.model_selection import GridSearchCV\n",
    "from sklearn.tree import DecisionTreeClassifier\n",
    "\n",
    "# Decision Tree object\n",
    "dtree = DecisionTreeClassifier()\n",
    "\n",
    "# Parameter grid\n",
    "param_grid = {\n",
    "    'max_depth': [2, 4, 6, 8, 10],\n",
    "    'min_samples_leaf': [2, 4, 6, 8, 10],\n",
    "    'min_samples_split': [2, 4, 6, 8, 10],\n",
    "    'criterion': ['gini', 'entropy'],\n",
    "    'random_state': [0, 42]\n",
    "}\n",
    "\n",
    "# Grid Search Object \n",
    "grid_search = GridSearchCV(estimator=dtree, param_grid=param_grid, cv=3, n_jobs=-1, verbose=2, scoring='accuracy')\n",
    "\n",
    "# Training Data Grid Search \n",
    "grid_search.fit(X_train, y_train)\n",
    "\n",
    "\n",
    "print(grid_search.best_params_)\n"
   ]
  },
  {
   "cell_type": "code",
   "execution_count": 218,
   "id": "3fca3985-2383-4454-b21a-f1c718570598",
   "metadata": {},
   "outputs": [
    {
     "name": "stdout",
     "output_type": "stream",
     "text": [
      "Training Accuracy:  0.8081292154774583\n"
     ]
    }
   ],
   "source": [
    "#Decision Tree Classifier Object with best parameters\n",
    "dtree  = DecisionTreeClassifier(criterion='gini', max_depth=6, min_samples_leaf=2, min_samples_split=10, random_state=42)\n",
    "\n",
    "#Fitting the data\n",
    "dtree.fit(X_train, y_train)\n",
    "\n",
    "#Training accuracy\n",
    "print('Training Accuracy: ', dtree.score(X_train, y_train))\n",
    "\n",
    "#Predicting the values\n",
    "d_pred = dtree.predict(X_test)"
   ]
  },
  {
   "cell_type": "code",
   "execution_count": 219,
   "id": "07ce9af4-4b9d-4aa7-b769-3d622960bbdd",
   "metadata": {},
   "outputs": [],
   "source": [
    "# Random Forest Classifier"
   ]
  },
  {
   "cell_type": "code",
   "execution_count": 220,
   "id": "5ae3feed-96d7-409c-a939-23a59335c918",
   "metadata": {},
   "outputs": [],
   "source": [
    "from sklearn.ensemble import RandomForestClassifier\n",
    "\n",
    "#Random Forest Classifier Object\n",
    "rfc = RandomForestClassifier()"
   ]
  },
  {
   "cell_type": "code",
   "execution_count": 250,
   "id": "583be73a-a060-45f3-b72c-8615ac3816de",
   "metadata": {},
   "outputs": [
    {
     "name": "stdout",
     "output_type": "stream",
     "text": [
      "Training Accuracy:  0.8356407525736599\n"
     ]
    }
   ],
   "source": [
    "#Random Forest Classifier Object with best parameters\n",
    "rfc = RandomForestClassifier(criterion='entropy', max_depth=10, min_samples_leaf=10, min_samples_split=2, random_state=42)\n",
    "\n",
    "#Fitting the data\n",
    "rfc.fit(X_train, y_train)\n",
    "\n",
    "#Training accuracy\n",
    "print('Training Accuracy: ', rfc.score(X_train, y_train))\n",
    "\n",
    "#Predicting the values\n",
    "r_pred = rfc.predict(X_test)"
   ]
  },
  {
   "cell_type": "code",
   "execution_count": 267,
   "id": "a2a28479-6464-4336-97e2-3e65c6a787f9",
   "metadata": {},
   "outputs": [],
   "source": [
    "from sklearn.neighbors import KNeighborsClassifier\n",
    "\n",
    "#KNN Classifier Object\n",
    "knn = KNeighborsClassifier()"
   ]
  },
  {
   "cell_type": "code",
   "execution_count": 274,
   "id": "53074861-7e23-4c69-9737-ea7891ab64b5",
   "metadata": {},
   "outputs": [
    {
     "name": "stdout",
     "output_type": "stream",
     "text": [
      "Training Accuracy: 0.7802626908058218\n"
     ]
    }
   ],
   "source": [
    "from sklearn.impute import SimpleImputer\n",
    "\n",
    "imputer = SimpleImputer(strategy='mean')\n",
    "X_train_imputed = imputer.fit_transform(X_train)    \n",
    "X_test_imputed = imputer.transform(X_test)\n",
    "\n",
    "\n",
    "knn = KNeighborsClassifier(algorithm='ball_tree', n_neighbors=6, weights='uniform')\n",
    "knn.fit(X_train_imputed, y_train)\n",
    "\n",
    "# Accuracy\n",
    "print('Training Accuracy:', knn.score(X_train_imputed, y_train))\n",
    "\n",
    "# Predict\n",
    "k_pred = knn.predict(X_test_imputed)"
   ]
  },
  {
   "cell_type": "markdown",
   "id": "4a98e2b2-68ae-45f1-a231-8a2d5159fc3d",
   "metadata": {},
   "source": [
    "# # Model Evalution"
   ]
  },
  {
   "cell_type": "code",
   "execution_count": null,
   "id": "0f9572f2-ee22-4610-ba83-7865058c8bff",
   "metadata": {},
   "outputs": [],
   "source": [
    "\n",
    "#Confusion Matrix Heatmap"
   ]
  },
  {
   "cell_type": "code",
   "execution_count": 276,
   "id": "00e5c387-0ea5-487b-bdb3-4af3e88f8d47",
   "metadata": {},
   "outputs": [
    {
     "data": {
      "text/plain": [
       "Text(0.5, 1.0, 'KNN Confusion Matrix')"
      ]
     },
     "execution_count": 276,
     "metadata": {},
     "output_type": "execute_result"
    },
    {
     "data": {
      "image/png": "[encoded data removed]",
      "text/plain": [
       "<Figure size 2000x500 with 6 Axes>"
      ]
     },
     "metadata": {},
     "output_type": "display_data"
    }
   ],
   "source": [
    "from sklearn.metrics import confusion_matrix\n",
    "\n",
    "fig, ax = plt.subplots(1, 3, figsize=(20, 5))\n",
    "\n",
    "#Decision Tree Confusion Matrix\n",
    "sns.heatmap(confusion_matrix(y_test, d_pred), annot=True, ax=ax[0], cmap='coolwarm').set_title('Decision Tree Confusion Matrix')\n",
    "\n",
    "#Random Forest Confusion Matrix\n",
    "sns.heatmap(confusion_matrix(y_test, r_pred), annot=True, ax=ax[1], cmap='coolwarm').set_title('Random Forest Confusion Matrix')\n",
    "\n",
    "#KNN Confusion Matrix\n",
    "sns.heatmap(confusion_matrix(y_test, k_pred), annot=True, ax=ax[2], cmap='coolwarm').set_title('KNN Confusion Matrix')\n"
   ]
  },
  {
   "cell_type": "code",
   "execution_count": null,
   "id": "fa914683-8790-4b80-bb1e-cd192067c967",
   "metadata": {},
   "outputs": [],
   "source": [
    "#The confusion matrix heatmaps visulaizes the true positive and true negative results from the machine learning model.\n",
    "# Here, in the above confusion matrix, when see that the Random Forest Classifier has the highest true positive and true negative results,\n",
    "# with considerbly less false positive and false negative results.\n",
    "# Therefore, the Random Forest Classifier is the best model for predicting the customer churn."
   ]
  },
  {
   "cell_type": "code",
   "execution_count": null,
   "id": "47b6b06b-e41f-4995-92ae-31fcdda1271d",
   "metadata": {},
   "outputs": [],
   "source": [
    "# DIstrubution Plot"
   ]
  },
  {
   "cell_type": "code",
   "execution_count": 277,
   "id": "bba3dbc7-a0a2-4c6b-a060-eb9e1dd08613",
   "metadata": {},
   "outputs": [
    {
     "data": {
      "text/plain": [
       "<Axes: title={'center': 'KNN'}, xlabel='Churn', ylabel='Density'>"
      ]
     },
     "execution_count": 277,
     "metadata": {},
     "output_type": "execute_result"
    },
    {
     "data": {
      "image/png": "[encoded data removed]",
      "text/plain": [
       "<Figure size 2000x500 with 3 Axes>"
      ]
     },
     "metadata": {},
     "output_type": "display_data"
    }
   ],
   "source": [
    "fig, ax = plt.subplots(1, 3, figsize=(20, 5))\n",
    "\n",
    "#Decision Tree \n",
    "\n",
    "sns.distplot(y_test, hist=False, color=\"r\", label=\"Actual Value\", ax=ax[0]).set_title('Decision Tree')\n",
    "sns.distplot(d_pred, hist=False, color=\"b\", label=\"Fitted Values\" , ax=ax[0])\n",
    "\n",
    "#Random Forest\n",
    "sns.distplot(y_test, hist=False, color=\"r\", label=\"Actual Value\", ax=ax[1]).set_title('Random Forest')\n",
    "sns.distplot(r_pred, hist=False, color=\"b\", label=\"Fitted Values\" , ax=ax[1])\n",
    "\n",
    "#KNN\n",
    "sns.distplot(y_test, hist=False, color=\"r\", label=\"Actual Value\", ax=ax[2]).set_title('KNN')\n",
    "sns.distplot(k_pred, hist=False, color=\"b\", label=\"Fitted Values\" , ax=ax[2])\n"
   ]
  },
  {
   "cell_type": "code",
   "execution_count": null,
   "id": "20445129-a358-4cca-b310-255b49192716",
   "metadata": {},
   "outputs": [],
   "source": []
  },
  {
   "cell_type": "code",
   "execution_count": null,
   "id": "56efb73b-97c0-44eb-827b-e3423cc355c6",
   "metadata": {},
   "outputs": [],
   "source": [
    " # classifiacation Report"
   ]
  },
  {
   "cell_type": "code",
   "execution_count": 278,
   "id": "012366e5-efde-4670-9eb2-77df613a0f47",
   "metadata": {},
   "outputs": [
    {
     "name": "stdout",
     "output_type": "stream",
     "text": [
      "Decision Tree Classification Report: \n",
      "               precision    recall  f1-score   support\n",
      "\n",
      "           0       0.85      0.87      0.86      1036\n",
      "           1       0.63      0.59      0.61       373\n",
      "\n",
      "    accuracy                           0.80      1409\n",
      "   macro avg       0.74      0.73      0.74      1409\n",
      "weighted avg       0.79      0.80      0.80      1409\n",
      "\n",
      "Random Forest Classification Report: \n",
      "               precision    recall  f1-score   support\n",
      "\n",
      "           0       0.84      0.92      0.88      1036\n",
      "           1       0.69      0.52      0.59       373\n",
      "\n",
      "    accuracy                           0.81      1409\n",
      "   macro avg       0.76      0.72      0.73      1409\n",
      "weighted avg       0.80      0.81      0.80      1409\n",
      "\n",
      "KNN Classification Report: \n",
      "               precision    recall  f1-score   support\n",
      "\n",
      "           0       0.76      0.94      0.84      1036\n",
      "           1       0.54      0.18      0.28       373\n",
      "\n",
      "    accuracy                           0.74      1409\n",
      "   macro avg       0.65      0.56      0.56      1409\n",
      "weighted avg       0.70      0.74      0.69      1409\n",
      "\n"
     ]
    }
   ],
   "source": [
    "from sklearn.metrics import classification_report\n",
    "\n",
    "print('Decision Tree Classification Report: \\n', classification_report(y_test, d_pred))\n",
    "\n",
    "print('Random Forest Classification Report: \\n', classification_report(y_test, r_pred))\n",
    "\n",
    "print('KNN Classification Report: \\n', classification_report(y_test, k_pred))"
   ]
  },
  {
   "cell_type": "code",
   "execution_count": null,
   "id": "8e5dca4d-f7ca-4226-833c-e5c66e7ace78",
   "metadata": {},
   "outputs": [],
   "source": []
  }
 ],
 "metadata": {
  "kernelspec": {
   "display_name": "Python 3 (ipykernel)",
   "language": "python",
   "name": "python3"
  },
  "language_info": {
   "codemirror_mode": {
    "name": "ipython",
    "version": 3
   },
   "file_extension": ".py",
   "mimetype": "text/x-python",
   "name": "python",
   "nbconvert_exporter": "python",
   "pygments_lexer": "ipython3",
   "version": "3.13.1"
  }
 },
 "nbformat": 4,
 "nbformat_minor": 5
}
